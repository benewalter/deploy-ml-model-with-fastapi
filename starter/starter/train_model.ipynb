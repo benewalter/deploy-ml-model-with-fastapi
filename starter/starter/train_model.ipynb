{
 "cells": [
  {
   "cell_type": "code",
   "execution_count": 1,
   "id": "0000f5c5",
   "metadata": {},
   "outputs": [],
   "source": [
    "# Script to train machine learning model.\n",
    "import pandas as pd\n",
    "from sklearn.model_selection import train_test_split\n",
    "import os\n",
    "\n",
    "from ml.data import process_data\n",
    "from ml.model import train_model, compute_model_metrics, inference"
   ]
  },
  {
   "cell_type": "code",
   "execution_count": 2,
   "id": "3aca51d4",
   "metadata": {},
   "outputs": [
    {
     "name": "stdout",
     "output_type": "stream",
     "text": [
      "/home/benewalter/deploy-ml-model-with-fastapi/starter/starter\n"
     ]
    }
   ],
   "source": [
    "print(os.getcwd())"
   ]
  },
  {
   "cell_type": "code",
   "execution_count": 3,
   "id": "91c351d0",
   "metadata": {},
   "outputs": [
    {
     "name": "stdout",
     "output_type": "stream",
     "text": [
      "/home/benewalter/deploy-ml-model-with-fastapi/starter\n"
     ]
    }
   ],
   "source": [
    "print(os.getcwd()[:-8])"
   ]
  },
  {
   "cell_type": "code",
   "execution_count": 4,
   "id": "3bc23127",
   "metadata": {},
   "outputs": [],
   "source": [
    "# Add code to load in the data.\n",
    "data = pd.read_csv(\"../data/census.csv\", skipinitialspace=True)"
   ]
  },
  {
   "cell_type": "code",
   "execution_count": 5,
   "id": "ea628152",
   "metadata": {},
   "outputs": [],
   "source": [
    "# Add code to load in the data.\n",
    "#data = pd.read_csv(os.getcwd()[:-8] + \"/data/census.csv\", skipinitialspace=True)"
   ]
  },
  {
   "cell_type": "code",
   "execution_count": 6,
   "id": "79800e82",
   "metadata": {},
   "outputs": [],
   "source": [
    "# remove white spaces from column names\n",
    "#data.columns = data.columns.str.replace(' ', '')"
   ]
  },
  {
   "cell_type": "code",
   "execution_count": 7,
   "id": "76be0238",
   "metadata": {},
   "outputs": [
    {
     "name": "stdout",
     "output_type": "stream",
     "text": [
      "   age         workclass   fnlgt  education  education-num  \\\n",
      "0   39         State-gov   77516  Bachelors             13   \n",
      "1   50  Self-emp-not-inc   83311  Bachelors             13   \n",
      "2   38           Private  215646    HS-grad              9   \n",
      "3   53           Private  234721       11th              7   \n",
      "4   28           Private  338409  Bachelors             13   \n",
      "\n",
      "       marital-status         occupation   relationship   race     sex  \\\n",
      "0       Never-married       Adm-clerical  Not-in-family  White    Male   \n",
      "1  Married-civ-spouse    Exec-managerial        Husband  White    Male   \n",
      "2            Divorced  Handlers-cleaners  Not-in-family  White    Male   \n",
      "3  Married-civ-spouse  Handlers-cleaners        Husband  Black    Male   \n",
      "4  Married-civ-spouse     Prof-specialty           Wife  Black  Female   \n",
      "\n",
      "   capital-gain  capital-loss  hours-per-week native-country salary  \n",
      "0          2174             0              40  United-States  <=50K  \n",
      "1             0             0              13  United-States  <=50K  \n",
      "2             0             0              40  United-States  <=50K  \n",
      "3             0             0              40  United-States  <=50K  \n",
      "4             0             0              40           Cuba  <=50K  \n"
     ]
    }
   ],
   "source": [
    "print(data.head())"
   ]
  },
  {
   "cell_type": "code",
   "execution_count": 8,
   "id": "d32ce7e3",
   "metadata": {},
   "outputs": [
    {
     "name": "stdout",
     "output_type": "stream",
     "text": [
      "<class 'pandas.core.frame.DataFrame'>\n",
      "RangeIndex: 32561 entries, 0 to 32560\n",
      "Data columns (total 15 columns):\n",
      " #   Column          Non-Null Count  Dtype \n",
      "---  ------          --------------  ----- \n",
      " 0   age             32561 non-null  int64 \n",
      " 1   workclass       32561 non-null  object\n",
      " 2   fnlgt           32561 non-null  int64 \n",
      " 3   education       32561 non-null  object\n",
      " 4   education-num   32561 non-null  int64 \n",
      " 5   marital-status  32561 non-null  object\n",
      " 6   occupation      32561 non-null  object\n",
      " 7   relationship    32561 non-null  object\n",
      " 8   race            32561 non-null  object\n",
      " 9   sex             32561 non-null  object\n",
      " 10  capital-gain    32561 non-null  int64 \n",
      " 11  capital-loss    32561 non-null  int64 \n",
      " 12  hours-per-week  32561 non-null  int64 \n",
      " 13  native-country  32561 non-null  object\n",
      " 14  salary          32561 non-null  object\n",
      "dtypes: int64(6), object(9)\n",
      "memory usage: 3.7+ MB\n"
     ]
    }
   ],
   "source": [
    "data.info()"
   ]
  },
  {
   "cell_type": "code",
   "execution_count": 9,
   "id": "f4b822db",
   "metadata": {},
   "outputs": [],
   "source": [
    "# Optional enhancement, use K-fold cross validation instead of a train-test split.\n",
    "train, test = train_test_split(data, test_size=0.20)"
   ]
  },
  {
   "cell_type": "code",
   "execution_count": 10,
   "id": "3ca89789",
   "metadata": {},
   "outputs": [],
   "source": [
    "cat_features = [\n",
    "    \"workclass\",\n",
    "    \"education\",\n",
    "    \"marital-status\",\n",
    "    \"occupation\",\n",
    "    \"relationship\",\n",
    "    \"race\",\n",
    "    \"sex\",\n",
    "    \"native-country\",\n",
    "]"
   ]
  },
  {
   "cell_type": "code",
   "execution_count": 11,
   "id": "7247094a",
   "metadata": {},
   "outputs": [],
   "source": [
    "X_train, y_train, encoder, lb = process_data(\n",
    "    train, categorical_features=cat_features, label=\"salary\", training=True\n",
    ")"
   ]
  },
  {
   "cell_type": "code",
   "execution_count": 12,
   "id": "3b0a4fdc",
   "metadata": {},
   "outputs": [],
   "source": [
    "X_test, y_test, _, _ = process_data(\n",
    "    test, categorical_features=cat_features, label=\"salary\", encoder= encoder, lb = lb,training=False\n",
    ")"
   ]
  },
  {
   "cell_type": "code",
   "execution_count": 13,
   "id": "43a8d736",
   "metadata": {},
   "outputs": [],
   "source": [
    "lr_model = train_model(X_train, y_train)"
   ]
  },
  {
   "cell_type": "code",
   "execution_count": 14,
   "id": "322baf23",
   "metadata": {},
   "outputs": [],
   "source": [
    "predictions = inference(lr_model, X_test)"
   ]
  },
  {
   "cell_type": "code",
   "execution_count": 15,
   "id": "cf93ac56",
   "metadata": {},
   "outputs": [
    {
     "name": "stdout",
     "output_type": "stream",
     "text": [
      "[0 0 0 ... 0 0 0]\n"
     ]
    }
   ],
   "source": [
    "print(predictions)"
   ]
  },
  {
   "cell_type": "code",
   "execution_count": 16,
   "id": "7acf377a",
   "metadata": {},
   "outputs": [
    {
     "data": {
      "text/plain": [
       "(0.7582417582417582, 0.25972396486825594, 0.38691588785046727)"
      ]
     },
     "execution_count": 16,
     "metadata": {},
     "output_type": "execute_result"
    }
   ],
   "source": [
    "compute_model_metrics(y_test, predictions)"
   ]
  },
  {
   "cell_type": "code",
   "execution_count": 17,
   "id": "8bfebefb",
   "metadata": {},
   "outputs": [],
   "source": [
    "import joblib\n",
    "# Model path\n",
    "#model_path = os.getcwd()[:-8] + \"/model/lr_model.joblib\"\n",
    "#joblib.dump(lr_model, model_path)"
   ]
  },
  {
   "cell_type": "code",
   "execution_count": 18,
   "id": "812e8cbf",
   "metadata": {},
   "outputs": [],
   "source": [
    "import joblib\n",
    "# Model path\n",
    "model_path = \"../model/lr_model.joblib\"\n",
    "#joblib.dump(lr_model, model_path)"
   ]
  },
  {
   "cell_type": "code",
   "execution_count": 19,
   "id": "880391e6",
   "metadata": {},
   "outputs": [
    {
     "data": {
      "text/plain": [
       "6513"
      ]
     },
     "execution_count": 19,
     "metadata": {},
     "output_type": "execute_result"
    }
   ],
   "source": [
    "X_test.shape[0]"
   ]
  },
  {
   "cell_type": "code",
   "execution_count": 20,
   "id": "8e2bae1c",
   "metadata": {},
   "outputs": [
    {
     "data": {
      "text/plain": [
       "6513"
      ]
     },
     "execution_count": 20,
     "metadata": {},
     "output_type": "execute_result"
    }
   ],
   "source": [
    "y_test.shape[0]"
   ]
  },
  {
   "cell_type": "code",
   "execution_count": 21,
   "id": "b8e6af5a",
   "metadata": {},
   "outputs": [
    {
     "data": {
      "text/plain": [
       "sklearn.linear_model._logistic.LogisticRegression"
      ]
     },
     "execution_count": 21,
     "metadata": {},
     "output_type": "execute_result"
    }
   ],
   "source": [
    "type(lr_model)"
   ]
  },
  {
   "cell_type": "code",
   "execution_count": 22,
   "id": "83940ce6",
   "metadata": {},
   "outputs": [
    {
     "data": {
      "text/plain": [
       "0"
      ]
     },
     "execution_count": 22,
     "metadata": {},
     "output_type": "execute_result"
    }
   ],
   "source": [
    "import numpy as np\n",
    "np.max(predictions)\n",
    "np.min(predictions)"
   ]
  },
  {
   "cell_type": "code",
   "execution_count": 45,
   "id": "51b54824",
   "metadata": {},
   "outputs": [],
   "source": [
    "def compute_model_metrics_on_slices(df, cat_features, encoder, lb, model):\n",
    "    \"\"\"\n",
    "    Validates the trained machine learning model using precision, recall, and F1.\n",
    "\n",
    "    Inputs\n",
    "    ------\n",
    "    y : np.array\n",
    "        Known labels, binarized.\n",
    "    preds : np.array\n",
    "        Predicted labels, binarized.\n",
    "    Returns\n",
    "    -------\n",
    "    precision : float\n",
    "    recall : float\n",
    "    fbeta : float\n",
    "    \"\"\"\n",
    "    \n",
    "    performance_on_slices = {}\n",
    "    \n",
    "    for feature in cat_features:\n",
    "        for cls in df[feature].unique():\n",
    "            data_slice = df.loc[df[feature] == cls]\n",
    "            \n",
    "            X_test, y_test, _, _ = process_data(\n",
    "                                    data_slice, categorical_features=cat_features, label=\"salary\", \n",
    "                                        encoder= encoder, lb = lb,training=False\n",
    "                                    )\n",
    "\n",
    "            predictions = inference(model, X_test)\n",
    "            \n",
    "            precision, recall, fbeta = compute_model_metrics(y_test, predictions)\n",
    "            print(str(feature) + \" \" + str(cls))\n",
    "            print(precision)\n",
    "            print(recall)\n",
    "            print(fbeta)\n",
    "            \n",
    "            performance_on_slices[feature + \"__\" + cls] = compute_model_metrics(y_test, predictions)\n",
    "    performance_on_slices = pd.DataFrame(performance_on_slices).T\n",
    "    performance_on_slices.columns = ['Precision', 'Recall', 'Fbeta']\n",
    "    performance_on_slices.to_csv(r'slice_output.txt', header=True, index=True, sep=' ', mode='a')\n",
    "            "
   ]
  },
  {
   "cell_type": "code",
   "execution_count": 46,
   "id": "5269d15c",
   "metadata": {},
   "outputs": [
    {
     "name": "stdout",
     "output_type": "stream",
     "text": [
      "workclass Private\n",
      "0.7380952380952381\n",
      "0.24554455445544554\n",
      "0.36849925705794945\n",
      "workclass Federal-gov\n",
      "0.6956521739130435\n",
      "0.20512820512820512\n",
      "0.31683168316831684\n",
      "workclass Self-emp-not-inc\n",
      "0.7543859649122807\n",
      "0.3333333333333333\n",
      "0.46236559139784944\n",
      "workclass Self-emp-inc\n",
      "0.9411764705882353\n",
      "0.34782608695652173\n",
      "0.5079365079365079\n",
      "workclass ?\n",
      "0.7142857142857143\n",
      "0.22727272727272727\n",
      "0.3448275862068965\n",
      "workclass State-gov\n",
      "0.9166666666666666\n",
      "0.3013698630136986\n",
      "0.45360824742268036\n",
      "workclass Local-gov\n",
      "0.6585365853658537\n",
      "0.22131147540983606\n",
      "0.3312883435582822\n",
      "workclass Without-pay\n",
      "1.0\n",
      "1.0\n",
      "1.0\n",
      "workclass Never-worked\n",
      "1.0\n",
      "1.0\n",
      "1.0\n",
      "education Some-college\n",
      "0.6666666666666666\n",
      "0.1958041958041958\n",
      "0.30270270270270266\n",
      "education HS-grad\n",
      "0.5775862068965517\n",
      "0.1903409090909091\n",
      "0.2863247863247863\n",
      "education Bachelors\n",
      "0.8717948717948718\n",
      "0.2962962962962963\n",
      "0.4422764227642276\n",
      "education 10th\n",
      "0.4\n",
      "0.2\n",
      "0.26666666666666666\n",
      "education 5th-6th\n",
      "0.5\n",
      "0.6666666666666666\n",
      "0.5714285714285715\n",
      "education 7th-8th\n",
      "0.16666666666666666\n",
      "0.125\n",
      "0.14285714285714288\n",
      "education Masters\n",
      "0.8983050847457628\n",
      "0.29444444444444445\n",
      "0.4435146443514644\n",
      "education 11th\n",
      "0.75\n",
      "0.5625\n",
      "0.6428571428571429\n",
      "education Assoc-voc\n",
      "0.7368421052631579\n",
      "0.20588235294117646\n",
      "0.32183908045977005\n",
      "education 12th\n",
      "1.0\n",
      "0.4444444444444444\n",
      "0.6153846153846153\n",
      "education Assoc-acdm\n",
      "0.6666666666666666\n",
      "0.2692307692307692\n",
      "0.38356164383561636\n",
      "education 1st-4th\n",
      "0.0\n",
      "1.0\n",
      "0.0\n",
      "education Prof-school\n",
      "0.972972972972973\n",
      "0.4235294117647059\n",
      "0.5901639344262295\n",
      "education Doctorate\n",
      "0.9523809523809523\n",
      "0.3333333333333333\n",
      "0.4938271604938272\n",
      "education 9th\n",
      "1.0\n",
      "0.0\n",
      "0.0\n",
      "education Preschool\n",
      "0.0\n",
      "1.0\n",
      "0.0\n",
      "marital-status Divorced\n",
      "0.5714285714285714\n",
      "0.2916666666666667\n",
      "0.3862068965517241\n",
      "marital-status Never-married\n",
      "0.4305555555555556\n",
      "0.3069306930693069\n",
      "0.3583815028901734\n",
      "marital-status Married-civ-spouse\n",
      "0.8469135802469135\n",
      "0.2538860103626943\n",
      "0.39066059225512534\n",
      "marital-status Separated\n",
      "0.42857142857142855\n",
      "0.23076923076923078\n",
      "0.3\n",
      "marital-status Widowed\n",
      "0.6666666666666666\n",
      "0.25\n",
      "0.36363636363636365\n",
      "marital-status Married-spouse-absent\n",
      "0.75\n",
      "0.42857142857142855\n",
      "0.5454545454545454\n",
      "marital-status Married-AF-spouse\n",
      "1.0\n",
      "0.0\n",
      "0.0\n",
      "occupation Prof-specialty\n",
      "0.8604651162790697\n",
      "0.30327868852459017\n",
      "0.44848484848484843\n",
      "occupation Armed-Forces\n",
      "1.0\n",
      "1.0\n",
      "1.0\n",
      "occupation Protective-serv\n",
      "0.4\n",
      "0.10256410256410256\n",
      "0.163265306122449\n",
      "occupation Craft-repair\n",
      "0.6666666666666666\n",
      "0.21505376344086022\n",
      "0.3252032520325203\n",
      "occupation Exec-managerial\n",
      "0.916030534351145\n",
      "0.3022670025188917\n",
      "0.45454545454545464\n",
      "occupation Adm-clerical\n",
      "0.5862068965517241\n",
      "0.2556390977443609\n",
      "0.35602094240837695\n",
      "occupation Other-service\n",
      "0.2857142857142857\n",
      "0.15384615384615385\n",
      "0.2\n",
      "occupation Machine-op-inspct\n",
      "0.6923076923076923\n",
      "0.18\n",
      "0.28571428571428575\n",
      "occupation Transport-moving\n",
      "0.6818181818181818\n",
      "0.2\n",
      "0.3092783505154639\n",
      "occupation Sales\n",
      "0.8387096774193549\n",
      "0.24299065420560748\n",
      "0.37681159420289856\n",
      "occupation ?\n",
      "0.7142857142857143\n",
      "0.22727272727272727\n",
      "0.3448275862068965\n",
      "occupation Handlers-cleaners\n",
      "0.2222222222222222\n",
      "0.15384615384615385\n",
      "0.18181818181818185\n",
      "occupation Farming-fishing\n",
      "0.5555555555555556\n",
      "0.3125\n",
      "0.39999999999999997\n",
      "occupation Tech-support\n",
      "0.5714285714285714\n",
      "0.22857142857142856\n",
      "0.32653061224489793\n",
      "occupation Priv-house-serv\n",
      "0.0\n",
      "1.0\n",
      "0.0\n",
      "relationship Not-in-family\n",
      "0.5789473684210527\n",
      "0.30726256983240224\n",
      "0.4014598540145985\n",
      "relationship Other-relative\n",
      "0.4\n",
      "0.4\n",
      "0.4000000000000001\n",
      "relationship Husband\n",
      "0.853448275862069\n",
      "0.2553740326741187\n",
      "0.3931171409662475\n",
      "relationship Unmarried\n",
      "0.45454545454545453\n",
      "0.20833333333333334\n",
      "0.28571428571428575\n",
      "relationship Wife\n",
      "0.8148148148148148\n",
      "0.24043715846994534\n",
      "0.37130801687763715\n",
      "relationship Own-child\n",
      "0.2727272727272727\n",
      "0.375\n",
      "0.3157894736842105\n",
      "race White\n",
      "0.7851239669421488\n",
      "0.2640722724113968\n",
      "0.3952158086323453\n",
      "race Amer-Indian-Eskimo\n",
      "0.16666666666666666\n",
      "0.125\n",
      "0.14285714285714288\n",
      "race Black\n",
      "0.4642857142857143\n",
      "0.17567567567567569\n",
      "0.25490196078431376\n",
      "race Asian-Pac-Islander\n",
      "0.75\n",
      "0.2608695652173913\n",
      "0.3870967741935483\n",
      "race Other\n",
      "0.5\n",
      "0.5\n",
      "0.5\n",
      "sex Male\n",
      "0.8110047846889952\n",
      "0.25759878419452886\n",
      "0.39100346020761245\n",
      "sex Female\n",
      "0.5859375\n",
      "0.2697841726618705\n",
      "0.3694581280788177\n",
      "native-country United-States\n",
      "0.7555555555555555\n",
      "0.25616438356164384\n",
      "0.38260869565217387\n",
      "native-country Mexico\n",
      "0.6666666666666666\n",
      "0.6666666666666666\n",
      "0.6666666666666666\n",
      "native-country Dominican-Republic\n",
      "1.0\n",
      "1.0\n",
      "1.0\n",
      "native-country Canada\n",
      "0.8333333333333334\n",
      "0.5555555555555556\n",
      "0.6666666666666667\n",
      "native-country ?\n",
      "0.7857142857142857\n",
      "0.3235294117647059\n",
      "0.45833333333333326\n",
      "native-country El-Salvador\n",
      "1.0\n",
      "0.5\n",
      "0.6666666666666666\n",
      "native-country Guatemala\n",
      "1.0\n",
      "0.0\n",
      "0.0\n",
      "native-country Italy\n",
      "1.0\n",
      "0.0\n",
      "0.0\n",
      "native-country Japan\n",
      "1.0\n",
      "0.2\n",
      "0.33333333333333337\n",
      "native-country Cuba\n",
      "1.0\n",
      "0.0\n",
      "0.0\n",
      "native-country Vietnam\n",
      "0.5\n",
      "1.0\n",
      "0.6666666666666666\n",
      "native-country Nicaragua\n",
      "1.0\n",
      "1.0\n",
      "1.0\n",
      "native-country Philippines\n",
      "0.6666666666666666\n",
      "0.26666666666666666\n",
      "0.3809523809523809\n",
      "native-country Germany\n",
      "1.0\n",
      "0.2727272727272727\n",
      "0.42857142857142855\n",
      "native-country France\n",
      "1.0\n",
      "0.5\n",
      "0.6666666666666666\n",
      "native-country Poland\n",
      "1.0\n",
      "0.0\n",
      "0.0\n",
      "native-country Puerto-Rico\n",
      "0.5\n",
      "0.5\n",
      "0.5\n",
      "native-country Hungary\n",
      "1.0\n",
      "0.0\n",
      "0.0\n",
      "native-country Yugoslavia\n",
      "1.0\n",
      "0.0\n",
      "0.0\n",
      "native-country India\n",
      "1.0\n",
      "0.0\n",
      "0.0\n",
      "native-country Taiwan\n",
      "1.0\n",
      "0.0\n",
      "0.0\n",
      "native-country China\n",
      "1.0\n",
      "0.16666666666666666\n",
      "0.2857142857142857\n",
      "native-country Jamaica\n",
      "1.0\n",
      "0.5\n",
      "0.6666666666666666\n",
      "native-country Ireland\n",
      "1.0\n",
      "1.0\n",
      "1.0\n",
      "native-country South\n",
      "1.0\n",
      "0.5\n",
      "0.6666666666666666\n",
      "native-country Outlying-US(Guam-USVI-etc)\n",
      "1.0\n",
      "1.0\n",
      "1.0\n",
      "native-country Peru\n",
      "1.0\n",
      "1.0\n",
      "1.0\n",
      "native-country Laos\n",
      "1.0\n",
      "0.0\n",
      "0.0\n",
      "native-country Columbia\n",
      "0.0\n",
      "1.0\n",
      "0.0\n",
      "native-country Hong\n",
      "1.0\n",
      "1.0\n",
      "1.0\n",
      "native-country Trinadad&Tobago\n",
      "1.0\n",
      "1.0\n",
      "1.0\n",
      "native-country England\n",
      "1.0\n",
      "0.5\n",
      "0.6666666666666666\n",
      "native-country Cambodia\n",
      "1.0\n",
      "0.0\n",
      "0.0\n",
      "native-country Greece\n",
      "1.0\n",
      "1.0\n",
      "1.0\n",
      "native-country Haiti\n",
      "0.0\n",
      "1.0\n",
      "0.0\n",
      "native-country Iran\n",
      "1.0\n",
      "0.3333333333333333\n",
      "0.5\n",
      "native-country Thailand\n",
      "1.0\n",
      "0.0\n",
      "0.0\n",
      "native-country Ecuador\n",
      "1.0\n",
      "1.0\n",
      "1.0\n",
      "native-country Portugal\n",
      "1.0\n",
      "1.0\n",
      "1.0\n",
      "native-country Honduras\n",
      "1.0\n",
      "1.0\n",
      "1.0\n"
     ]
    }
   ],
   "source": [
    "compute_model_metrics_on_slices(test, cat_features, encoder, lb, lr_model)"
   ]
  },
  {
   "cell_type": "code",
   "execution_count": null,
   "id": "245288b9",
   "metadata": {},
   "outputs": [],
   "source": []
  }
 ],
 "metadata": {
  "kernelspec": {
   "display_name": "Python 3 (ipykernel)",
   "language": "python",
   "name": "python3"
  },
  "language_info": {
   "codemirror_mode": {
    "name": "ipython",
    "version": 3
   },
   "file_extension": ".py",
   "mimetype": "text/x-python",
   "name": "python",
   "nbconvert_exporter": "python",
   "pygments_lexer": "ipython3",
   "version": "3.8.17"
  }
 },
 "nbformat": 4,
 "nbformat_minor": 5
}
